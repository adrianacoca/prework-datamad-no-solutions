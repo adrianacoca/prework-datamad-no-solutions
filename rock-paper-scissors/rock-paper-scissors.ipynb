{
 "cells": [
  {
   "cell_type": "markdown",
   "metadata": {},
   "source": [
    "<img src=\"https://bit.ly/2VnXWr2\" width=\"100\" align=\"left\">"
   ]
  },
  {
   "cell_type": "markdown",
   "metadata": {},
   "source": [
    "# Rock, Paper & Scissors\n",
    "\n",
    "Let's play the famous game against our computer. You can check the rules [here](https://en.wikipedia.org/wiki/Rock%E2%80%93paper%E2%80%93scissors). \n",
    "\n",
    "## Task\n",
    "Create a program that imitates the playability of the well known game of rock, paper, scissors. Follow the guidelines provided.\n",
    "\n",
    "## Tools\n",
    "1. Loop: **for/while**\n",
    "2. Functions: **input(), print()...**\n",
    "3. Conditional statements: **if, elif, else**\n",
    "4. Definition of functions. Modular programming\n",
    "5. Import modules\n",
    "\n",
    "**To solve this challenge, the use of functions is recommended.**\n",
    "\n",
    "#### 1. Import the choice function of the random module."
   ]
  },
  {
   "cell_type": "code",
   "execution_count": 1,
   "metadata": {},
   "outputs": [],
   "source": [
    "import random"
   ]
  },
  {
   "cell_type": "markdown",
   "metadata": {},
   "source": [
    "#### 2. Create a list that includes the 3 possible gesture options of the game: 'rock', 'paper' or 'scissors'. Store the list in a variable called `gestures`."
   ]
  },
  {
   "cell_type": "code",
   "execution_count": 2,
   "metadata": {},
   "outputs": [],
   "source": [
    "gestures = [\"rock\", \"paper\", \"scissors\"]"
   ]
  },
  {
   "cell_type": "markdown",
   "metadata": {},
   "source": [
    "#### 3. Create a variable called `n_rounds` to store the maximum number of rounds to play in a game. \n",
    "Remember that the number of rounds must be odd: 1, 3, 5, ..."
   ]
  },
  {
   "cell_type": "code",
   "execution_count": 3,
   "metadata": {},
   "outputs": [
    {
     "name": "stdout",
     "output_type": "stream",
     "text": [
      "Enter the number of odd rounds:3\n"
     ]
    }
   ],
   "source": [
    "n_rounds = 0\n",
    "odd = int(n_rounds)%2\n",
    "while odd == 0:\n",
    "    n_rounds = input(\"Enter the number of odd rounds:\")\n",
    "    odd = int(n_rounds)%2\n",
    "    if odd == 1:\n",
    "        break"
   ]
  },
  {
   "cell_type": "markdown",
   "metadata": {},
   "source": [
    "#### 4. Create a variable called `rounds_to_win` to store the number of rounds that a player must win to win the game.\n",
    "**Hint**: the value stored in `rounds_to_win` depends on the value of `n_rounds`. "
   ]
  },
  {
   "cell_type": "code",
   "execution_count": 4,
   "metadata": {},
   "outputs": [],
   "source": [
    "rounds_to_win = (float(n_rounds)/2)+0.5"
   ]
  },
  {
   "cell_type": "markdown",
   "metadata": {},
   "source": [
    "#### 5. Create two variables to store the number of rounds that the computer and the player have won. Call these variables `cpu_score` and `player_score`."
   ]
  },
  {
   "cell_type": "code",
   "execution_count": 5,
   "metadata": {},
   "outputs": [],
   "source": [
    "cpu_score = 0\n",
    "player_score = 0"
   ]
  },
  {
   "cell_type": "markdown",
   "metadata": {},
   "source": [
    "#### 6. Define a function that randomly returns one of the 3 gesture options.\n",
    "You will use this function to simulate the gesture choice of the computer. "
   ]
  },
  {
   "cell_type": "code",
   "execution_count": 6,
   "metadata": {},
   "outputs": [],
   "source": [
    "def cpu_input():\n",
    "    return random.choice(gestures)"
   ]
  },
  {
   "cell_type": "markdown",
   "metadata": {},
   "source": [
    "#### 7. Define a function that asks the player which is the gesture he or she wants to show: 'rock', 'paper' or 'scissors'.\n",
    "The player should only be allowed to choose one of the 3 gesture options. If the player's choice is not rock, paper or scissors, keep asking until it is."
   ]
  },
  {
   "cell_type": "code",
   "execution_count": 7,
   "metadata": {},
   "outputs": [],
   "source": [
    "def player_input():\n",
    "    player_gesture = input(\"Enter a gesture between rock, paper or scissors: \")\n",
    "    while player_gesture not in gestures:\n",
    "        player_gesture = input(\"enter a gesture between rock, paper or scissors: \")\n",
    "    if player_gesture in gestures:\n",
    "        return player_gesture"
   ]
  },
  {
   "cell_type": "markdown",
   "metadata": {},
   "source": [
    "#### 8. Define a function that checks who won a round. \n",
    "The function should return 0 if there is a tie, 1 if the computer wins and 2 if the player wins."
   ]
  },
  {
   "cell_type": "code",
   "execution_count": 8,
   "metadata": {},
   "outputs": [],
   "source": [
    "def total_won(player_gesture, cpu_gesture):\n",
    "        if player_gesture == \"scissors\":\n",
    "            if cpu_gesture == \"scissors\":\n",
    "                return 0\n",
    "            if cpu_gesture == \"rock\":\n",
    "                return 1\n",
    "            if cpu_gesture == \"paper\":\n",
    "                return 2\n",
    "        if player_gesture == \"rock\":\n",
    "            if cpu_gesture == \"scisors\":\n",
    "                return 2\n",
    "            if cpu_gesture == \"rock\":\n",
    "                return 0\n",
    "            if cpu_gesture == \"paper\":\n",
    "                return 1\n",
    "        if player_gesture == \"paper\":\n",
    "            if cpu_gesture == \"scisors\":\n",
    "                return 1\n",
    "            if cpu_gesture == \"rock\":\n",
    "                return 2\n",
    "            if cpu_gesture == \"paper\":\n",
    "                return 0"
   ]
  },
  {
   "cell_type": "markdown",
   "metadata": {},
   "source": [
    "#### 9. Define a function that prints the choice of the computer, the choice of the player and a message that announces who won the current round. \n",
    "You should also use this function to update the variables that count the number of rounds that the computer and the player have won. The score of the winner increases by one point. If there is a tie, the score does not increase."
   ]
  },
  {
   "cell_type": "code",
   "execution_count": 9,
   "metadata": {},
   "outputs": [],
   "source": [
    "def current_round(cpu_gesture, player_gesture, cpu_score, player_score):\n",
    "    print (\"The player played\", player_gesture, \"\\nThe computer played\", cpu_gesture)\n",
    "    t_won=total_won(player_gesture, cpu_gesture)\n",
    "    if t_won == 1: \n",
    "        cpu_score+=1\n",
    "        print (\"The computer won this round. Current score: \", cpu_score, \":Computer,\", player_score, \":Player.\\n\")\n",
    "    if t_won == 2: \n",
    "        player_score+=1\n",
    "        print (\"The player won this round. Current score: \", cpu_score, \"- Computer,\", player_score, \"- Player.\\n\")\n",
    "    if t_won == 0:\n",
    "        print (\"There has been a tie for this round. Current score: \", cpu_score, \"- Computer,\", player_score, \"- Player.\\n\")\n",
    "    return cpu_score, player_score"
   ]
  },
  {
   "cell_type": "markdown",
   "metadata": {},
   "source": [
    "#### 10. Now it's time to code the execution of the game using the functions and variables you defined above. \n",
    "\n",
    "First, create a loop structure that repeats while no player reaches the minimum score necessary to win and the number of rounds is less than the maximum number of rounds to play in a game.  \n",
    "\n",
    "Inside the loop, use the functions and variables above to create the execution of a round: ask for the player's choice, generate the random choice of the computer, show the round results, update the scores, etc. "
   ]
  },
  {
   "cell_type": "code",
   "execution_count": 10,
   "metadata": {},
   "outputs": [
    {
     "name": "stdout",
     "output_type": "stream",
     "text": [
      "Enter a gesture between rock, paper or scissors: rock\n",
      "The player played rock \n",
      "The computer played paper\n",
      "The computer won this round. Current score:  1 :Computer, 0 :Player.\n",
      "\n",
      "Enter a gesture between rock, paper or scissors: paper\n",
      "The player played paper \n",
      "The computer played rock\n",
      "The player won this round. Current score:  1 - Computer, 1 - Player.\n",
      "\n",
      "Enter a gesture between rock, paper or scissors: rock\n",
      "The player played rock \n",
      "The computer played paper\n",
      "The computer won this round. Current score:  2 :Computer, 1 :Player.\n",
      "\n",
      "The computer won against the the player with a score of:  2  -  1\n"
     ]
    }
   ],
   "source": [
    "while ((player_score < rounds_to_win)&(cpu_score < rounds_to_win)):\n",
    "    player_gesture=player_input()\n",
    "    cpu_gesture=cpu_input()\n",
    "    cpu_score, player_score = current_round(cpu_gesture, player_gesture, cpu_score, player_score)\n",
    "\n",
    "if player_score>cpu_score:\n",
    "    print(\"You, the player, won against the cpu with a score of: \", cpu_score,\" - \", player_score,\" Congratulations !!!\")\n",
    "elif cpu_score>player_score:\n",
    "    print(\"The computer won against the the player with a score of: \", cpu_score,\" - \", player_score)"
   ]
  },
  {
   "cell_type": "markdown",
   "metadata": {},
   "source": [
    "#### 11. Print the winner of the game based on who won more rounds.\n",
    "Remember that the game might be tied. "
   ]
  },
  {
   "cell_type": "code",
   "execution_count": 11,
   "metadata": {},
   "outputs": [
    {
     "name": "stdout",
     "output_type": "stream",
     "text": [
      "The computer won against the the player with a score of:  2  -  1\n"
     ]
    }
   ],
   "source": [
    "if player_score>cpu_score:\n",
    "    print(\"You, the player, won against the cpu with a score of: \", cpu_score,\" - \", player_score,\" Congratulations !!!\")\n",
    "elif cpu_score>player_score:\n",
    "    print(\"The computer won against the the player with a score of: \", cpu_score,\" - \", player_score)"
   ]
  },
  {
   "cell_type": "markdown",
   "metadata": {},
   "source": [
    "# Bonus: Rock, Paper, Scissors, Lizard & Spock\n",
    "![](images/rpsls.jpg)\n",
    "\n",
    "In this challenge, you need to improve the previous game by adding two new options. To know more about the rules of the improved version of rock, paper, scissors, check this [link](http://www.samkass.com/theories/RPSSL.html). \n",
    "\n",
    "In addition, you will also need to improve how the game interacts with the player: the number of rounds to play, which must be an odd number, will be requested to the user until a valid number is entered. Define a new function to make that request.\n",
    "\n",
    "**Hint**: Try to reuse the code that you already coded in the previous challenge. If your code is efficient, this bonus will only consist of simple modifications to the original game."
   ]
  },
  {
   "cell_type": "code",
   "execution_count": 12,
   "metadata": {},
   "outputs": [
    {
     "name": "stdout",
     "output_type": "stream",
     "text": [
      "Enter the number of odd rounds:3\n"
     ]
    }
   ],
   "source": [
    "import random\n",
    "\n",
    "gestures = [\"rock\", \"paper\", \"scissors\", \"lizard\", \"spock\"]\n",
    "\n",
    "rounds = 0\n",
    "odd = int(rounds)%2\n",
    "while odd == 0:\n",
    "    rounds = input(\"Enter the number of odd rounds:\")\n",
    "    odd = int(rounds)%2\n",
    "    if odd == 1:\n",
    "        break\n",
    "\n",
    "rounds_win = (float(n_rounds)/2)+0.5\n",
    "\n",
    "cpu_score = 0\n",
    "player_score = 0\n",
    "\n",
    "def cpu_input():\n",
    "    return random.choice(gestures)\n",
    "\n",
    "def player_input():\n",
    "    player_gesture = input(\"Enter a gesture between rock, paper, scissors, lizard or spock: \")\n",
    "    while player_gesture not in gestures:\n",
    "        player_gesture = input(\"Enter a gesture between rock, paper, scissors, lizard or spock: \")\n",
    "    if player_gesture in gestures:\n",
    "        return player_gesture\n",
    "\n",
    "\n",
    "    "
   ]
  },
  {
   "cell_type": "code",
   "execution_count": 13,
   "metadata": {},
   "outputs": [
    {
     "name": "stdout",
     "output_type": "stream",
     "text": [
      "Enter a gesture between rock, paper, scissors, lizard or spock: lizard\n",
      "The player played lizard \n",
      "The computer played spock\n",
      "The player won this round. Current score:  0 - Computer, 1 - Player.\n",
      "\n",
      "Enter a gesture between rock, paper, scissors, lizard or spock: rock\n",
      "The player played rock \n",
      "The computer played rock\n",
      "There has been a tie for this round. Current score:  0 - Computer, 1 - Player.\n",
      "\n",
      "Enter a gesture between rock, paper, scissors, lizard or spock: spock\n",
      "The player played spock \n",
      "The computer played rock\n",
      "The player won this round. Current score:  0 - Computer, 2 - Player.\n",
      "\n",
      "You, the player, won against the cpu with a score of:  0  -  2  Congratulations !!!\n"
     ]
    }
   ],
   "source": [
    "def total_won(player_gesture, cpu_gesture):\n",
    "        if player_gesture == \"scissors\":\n",
    "            if cpu_gesture == \"scissors\":\n",
    "                return 0\n",
    "            if cpu_gesture == \"rock\":\n",
    "                return 1\n",
    "            if cpu_gesture == \"paper\":\n",
    "                return 2\n",
    "            if cpu_gesture == \"lizard\":\n",
    "                return 2\n",
    "            if cpu_gesture == \"spock\":\n",
    "                return 1\n",
    "        if player_gesture == \"rock\":\n",
    "            if cpu_gesture == \"scisors\":\n",
    "                return 2\n",
    "            if cpu_gesture == \"rock\":\n",
    "                return 0\n",
    "            if cpu_gesture == \"paper\":\n",
    "                return 1\n",
    "            if cpu_gesture == \"lizard\":\n",
    "                return 2\n",
    "            if cpu_gesture == \"spock\":\n",
    "                return 1\n",
    "        if player_gesture == \"paper\":\n",
    "            if cpu_gesture == \"scisors\":\n",
    "                return 1\n",
    "            if cpu_gesture == \"rock\":\n",
    "                return 2\n",
    "            if cpu_gesture == \"paper\":\n",
    "                return 0\n",
    "            if cpu_gesture == \"lizard\":\n",
    "                return 1\n",
    "            if cpu_gesture == \"spock\":\n",
    "                return 2\n",
    "        if player_gesture == \"lizard\":\n",
    "            if cpu_gesture == \"scisors\":\n",
    "                return 1\n",
    "            if cpu_gesture == \"rock\":\n",
    "                return 1\n",
    "            if cpu_gesture == \"paper\":\n",
    "                return 2\n",
    "            if cpu_gesture == \"lizard\":\n",
    "                return 0\n",
    "            if cpu_gesture == \"spock\":\n",
    "                return 2\n",
    "        if player_gesture == \"spock\":\n",
    "            if cpu_gesture == \"scisors\":\n",
    "                return 2\n",
    "            if cpu_gesture == \"rock\":\n",
    "                return 2\n",
    "            if cpu_gesture == \"paper\":\n",
    "                return 1\n",
    "            if cpu_gesture == \"lizard\":\n",
    "                return 1\n",
    "            if cpu_gesture == \"spock\":\n",
    "                return 0\n",
    "            \n",
    "def current_round(cpu_gesture, player_gesture, cpu_score, player_score):\n",
    "    print (\"The player played\", player_gesture, \"\\nThe computer played\", cpu_gesture)\n",
    "    t_won=total_won(player_gesture, cpu_gesture)\n",
    "    if t_won == 1: \n",
    "        cpu_score+=1\n",
    "        print (\"The computer won this round. Current score: \", cpu_score, \":Computer,\", player_score, \":Player.\\n\")\n",
    "    if t_won == 2: \n",
    "        player_score+=1\n",
    "        print (\"The player won this round. Current score: \", cpu_score, \"- Computer,\", player_score, \"- Player.\\n\")\n",
    "    if t_won == 0:\n",
    "        print (\"There has been a tie for this round. Current score: \", cpu_score, \"- Computer,\", player_score, \"- Player.\\n\")\n",
    "    return cpu_score, player_score\n",
    "\n",
    "while ((player_score < rounds_to_win)&(cpu_score < rounds_to_win)):\n",
    "    player_gesture=player_input()\n",
    "    cpu_gesture=cpu_input()\n",
    "    cpu_score, player_score = current_round(cpu_gesture, player_gesture, cpu_score, player_score)\n",
    "\n",
    "if player_score>cpu_score:\n",
    "    print(\"You, the player, won against the cpu with a score of: \", cpu_score,\" - \", player_score,\" Congratulations !!!\")\n",
    "elif cpu_score>player_score:\n",
    "    print(\"The computer won against the the player with a score of: \", cpu_score,\" - \", player_score)"
   ]
  },
  {
   "cell_type": "code",
   "execution_count": null,
   "metadata": {},
   "outputs": [],
   "source": []
  }
 ],
 "metadata": {
  "kernelspec": {
   "display_name": "Python 3",
   "language": "python",
   "name": "python3"
  },
  "language_info": {
   "codemirror_mode": {
    "name": "ipython",
    "version": 3
   },
   "file_extension": ".py",
   "mimetype": "text/x-python",
   "name": "python",
   "nbconvert_exporter": "python",
   "pygments_lexer": "ipython3",
   "version": "3.8.2"
  }
 },
 "nbformat": 4,
 "nbformat_minor": 2
}
